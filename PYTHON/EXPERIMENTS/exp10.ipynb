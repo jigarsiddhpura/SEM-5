{
  "cells": [
    {
      "cell_type": "markdown",
      "metadata": {
        "id": "Sj9Gb1shky0_"
      },
      "source": [
        "# printing series in pandas"
      ]
    },
    {
      "cell_type": "code",
      "execution_count": 3,
      "metadata": {
        "colab": {
          "base_uri": "https://localhost:8080/"
        },
        "id": "Do5vSiyAk-JH",
        "outputId": "6d0649a9-54b4-4869-953c-821795b14dae"
      },
      "outputs": [
        {
          "name": "stdout",
          "output_type": "stream",
          "text": [
            "0    21\n",
            "1    18\n",
            "2     5\n",
            "3     3\n",
            "4     4\n",
            "dtype: int64\n"
          ]
        }
      ],
      "source": [
        "import pandas as pd\n",
        "list1=[21,18,5,3,4]\n",
        "var1=pd.Series(list1)\n",
        "print(var1)"
      ]
    },
    {
      "cell_type": "markdown",
      "metadata": {
        "id": "WpuihR8glLnF"
      },
      "source": [
        "\n",
        "## giving custom indexes"
      ]
    },
    {
      "cell_type": "code",
      "execution_count": 4,
      "metadata": {
        "colab": {
          "base_uri": "https://localhost:8080/"
        },
        "id": "H1VvHtrEjqD0",
        "outputId": "4362afe0-9781-49ea-abb6-749f33e90220"
      },
      "outputs": [
        {
          "name": "stdout",
          "output_type": "stream",
          "text": [
            "a    21\n",
            "b    18\n",
            "x     5\n",
            "y     3\n",
            "z     4\n",
            "dtype: int64\n"
          ]
        }
      ],
      "source": [
        "var1=pd.Series(list1,index=['a','b','x','y','z'])\n",
        "print(var1)"
      ]
    },
    {
      "cell_type": "markdown",
      "metadata": {
        "id": "Or1nmC15lRJt"
      },
      "source": [
        "## series for dictionary"
      ]
    },
    {
      "cell_type": "code",
      "execution_count": 5,
      "metadata": {
        "colab": {
          "base_uri": "https://localhost:8080/"
        },
        "id": "9pUvEktHjr58",
        "outputId": "c69fc299-defe-4326-e9b7-e9acf234d539"
      },
      "outputs": [
        {
          "name": "stdout",
          "output_type": "stream",
          "text": [
            "1    abc\n",
            "2    dfg\n",
            "dtype: object\n"
          ]
        }
      ],
      "source": [
        "dist1={'1':'abc','2':'dfg'}\n",
        "var1=pd.Series(dist1)\n",
        "print(var1)"
      ]
    },
    {
      "cell_type": "markdown",
      "metadata": {
        "id": "ww0QmhwhlV9i"
      },
      "source": [
        "## creating a DataFrame and printing value of index 0"
      ]
    },
    {
      "cell_type": "code",
      "execution_count": 6,
      "metadata": {
        "colab": {
          "base_uri": "https://localhost:8080/"
        },
        "id": "jZvJ3Esmjtl6",
        "outputId": "7ce14a90-7cb1-4027-be6c-dd0f01d7ce64"
      },
      "outputs": [
        {
          "data": {
            "text/plain": [
              "sapid    157.0\n",
              "name       abc\n",
              "Name: 0, dtype: object"
            ]
          },
          "execution_count": 6,
          "metadata": {},
          "output_type": "execute_result"
        }
      ],
      "source": [
        "data={\n",
        "    'sapid':[157,159,161,None],\n",
        "    'name':['abc','dfg','xyz',None]\n",
        "}\n",
        "df=pd.DataFrame(data)\n",
        "df.loc[0]"
      ]
    },
    {
      "cell_type": "markdown",
      "metadata": {
        "id": "pBTkr4cCl5k6"
      },
      "source": [
        "# Finding the Index of Rows in a DataFrame Where the 'name' Column is 'abc"
      ]
    },
    {
      "cell_type": "code",
      "execution_count": 9,
      "metadata": {
        "colab": {
          "base_uri": "https://localhost:8080/"
        },
        "id": "fnXrcEmKjuL5",
        "outputId": "ba82e56c-3282-4d48-a1fa-2beb15cf7e21"
      },
      "outputs": [
        {
          "data": {
            "text/plain": [
              "Index([2], dtype='int64')"
            ]
          },
          "execution_count": 9,
          "metadata": {},
          "output_type": "execute_result"
        }
      ],
      "source": [
        "row = df.loc[df['name']==\"xyz\"].index\n",
        "row"
      ]
    },
    {
      "cell_type": "code",
      "execution_count": 10,
      "metadata": {
        "colab": {
          "base_uri": "https://localhost:8080/",
          "height": 175
        },
        "id": "RXOYvCnDll1Z",
        "outputId": "6437f6da-51b6-4899-82ec-819959e9a367"
      },
      "outputs": [
        {
          "data": {
            "text/html": [
              "<div>\n",
              "<style scoped>\n",
              "    .dataframe tbody tr th:only-of-type {\n",
              "        vertical-align: middle;\n",
              "    }\n",
              "\n",
              "    .dataframe tbody tr th {\n",
              "        vertical-align: top;\n",
              "    }\n",
              "\n",
              "    .dataframe thead th {\n",
              "        text-align: right;\n",
              "    }\n",
              "</style>\n",
              "<table border=\"1\" class=\"dataframe\">\n",
              "  <thead>\n",
              "    <tr style=\"text-align: right;\">\n",
              "      <th></th>\n",
              "      <th>sapid</th>\n",
              "      <th>name</th>\n",
              "    </tr>\n",
              "  </thead>\n",
              "  <tbody>\n",
              "    <tr>\n",
              "      <th>0</th>\n",
              "      <td>157.0</td>\n",
              "      <td>abc</td>\n",
              "    </tr>\n",
              "    <tr>\n",
              "      <th>1</th>\n",
              "      <td>159.0</td>\n",
              "      <td>dfg</td>\n",
              "    </tr>\n",
              "    <tr>\n",
              "      <th>2</th>\n",
              "      <td>161.0</td>\n",
              "      <td>xyz</td>\n",
              "    </tr>\n",
              "    <tr>\n",
              "      <th>3</th>\n",
              "      <td>NaN</td>\n",
              "      <td>None</td>\n",
              "    </tr>\n",
              "  </tbody>\n",
              "</table>\n",
              "</div>"
            ],
            "text/plain": [
              "   sapid  name\n",
              "0  157.0   abc\n",
              "1  159.0   dfg\n",
              "2  161.0   xyz\n",
              "3    NaN  None"
            ]
          },
          "execution_count": 10,
          "metadata": {},
          "output_type": "execute_result"
        }
      ],
      "source": [
        "df"
      ]
    },
    {
      "cell_type": "markdown",
      "metadata": {
        "id": "hIJPxpDLmPP8"
      },
      "source": [
        "# Use of head ,tail, info, finding null values in Dataframe"
      ]
    },
    {
      "cell_type": "code",
      "execution_count": 11,
      "metadata": {
        "colab": {
          "base_uri": "https://localhost:8080/",
          "height": 112
        },
        "id": "wiWv0qMTjvqH",
        "outputId": "60b47501-5008-48c4-b607-389e1cc46988"
      },
      "outputs": [
        {
          "data": {
            "text/html": [
              "<div>\n",
              "<style scoped>\n",
              "    .dataframe tbody tr th:only-of-type {\n",
              "        vertical-align: middle;\n",
              "    }\n",
              "\n",
              "    .dataframe tbody tr th {\n",
              "        vertical-align: top;\n",
              "    }\n",
              "\n",
              "    .dataframe thead th {\n",
              "        text-align: right;\n",
              "    }\n",
              "</style>\n",
              "<table border=\"1\" class=\"dataframe\">\n",
              "  <thead>\n",
              "    <tr style=\"text-align: right;\">\n",
              "      <th></th>\n",
              "      <th>sapid</th>\n",
              "      <th>name</th>\n",
              "    </tr>\n",
              "  </thead>\n",
              "  <tbody>\n",
              "    <tr>\n",
              "      <th>0</th>\n",
              "      <td>157.0</td>\n",
              "      <td>abc</td>\n",
              "    </tr>\n",
              "    <tr>\n",
              "      <th>1</th>\n",
              "      <td>159.0</td>\n",
              "      <td>dfg</td>\n",
              "    </tr>\n",
              "  </tbody>\n",
              "</table>\n",
              "</div>"
            ],
            "text/plain": [
              "   sapid name\n",
              "0  157.0  abc\n",
              "1  159.0  dfg"
            ]
          },
          "execution_count": 11,
          "metadata": {},
          "output_type": "execute_result"
        }
      ],
      "source": [
        "df.head(2)"
      ]
    },
    {
      "cell_type": "code",
      "execution_count": 12,
      "metadata": {
        "colab": {
          "base_uri": "https://localhost:8080/",
          "height": 81
        },
        "id": "pwmm_41TmX_Z",
        "outputId": "82838812-e1ef-47cf-9101-3c3c13d19dc7"
      },
      "outputs": [
        {
          "data": {
            "text/html": [
              "<div>\n",
              "<style scoped>\n",
              "    .dataframe tbody tr th:only-of-type {\n",
              "        vertical-align: middle;\n",
              "    }\n",
              "\n",
              "    .dataframe tbody tr th {\n",
              "        vertical-align: top;\n",
              "    }\n",
              "\n",
              "    .dataframe thead th {\n",
              "        text-align: right;\n",
              "    }\n",
              "</style>\n",
              "<table border=\"1\" class=\"dataframe\">\n",
              "  <thead>\n",
              "    <tr style=\"text-align: right;\">\n",
              "      <th></th>\n",
              "      <th>sapid</th>\n",
              "      <th>name</th>\n",
              "    </tr>\n",
              "  </thead>\n",
              "  <tbody>\n",
              "    <tr>\n",
              "      <th>3</th>\n",
              "      <td>NaN</td>\n",
              "      <td>None</td>\n",
              "    </tr>\n",
              "  </tbody>\n",
              "</table>\n",
              "</div>"
            ],
            "text/plain": [
              "   sapid  name\n",
              "3    NaN  None"
            ]
          },
          "execution_count": 12,
          "metadata": {},
          "output_type": "execute_result"
        }
      ],
      "source": [
        "df.tail(1)"
      ]
    },
    {
      "cell_type": "code",
      "execution_count": 13,
      "metadata": {
        "colab": {
          "base_uri": "https://localhost:8080/"
        },
        "id": "ImmE4HSUmab6",
        "outputId": "0c149c54-2975-4648-de28-08611453540b"
      },
      "outputs": [
        {
          "name": "stdout",
          "output_type": "stream",
          "text": [
            "<class 'pandas.core.frame.DataFrame'>\n",
            "RangeIndex: 4 entries, 0 to 3\n",
            "Data columns (total 2 columns):\n",
            " #   Column  Non-Null Count  Dtype  \n",
            "---  ------  --------------  -----  \n",
            " 0   sapid   3 non-null      float64\n",
            " 1   name    3 non-null      object \n",
            "dtypes: float64(1), object(1)\n",
            "memory usage: 192.0+ bytes\n"
          ]
        }
      ],
      "source": [
        "df.info()"
      ]
    },
    {
      "cell_type": "code",
      "execution_count": 14,
      "metadata": {
        "colab": {
          "base_uri": "https://localhost:8080/"
        },
        "id": "fMYg6h4Yj3jq",
        "outputId": "c7ef13ed-8b84-4291-c053-2d5c4c68e992"
      },
      "outputs": [
        {
          "data": {
            "text/plain": [
              "sapid    1\n",
              "name     1\n",
              "dtype: int64"
            ]
          },
          "execution_count": 14,
          "metadata": {},
          "output_type": "execute_result"
        }
      ],
      "source": [
        "df.isna().sum()"
      ]
    },
    {
      "cell_type": "code",
      "execution_count": 15,
      "metadata": {
        "colab": {
          "base_uri": "https://localhost:8080/",
          "height": 143
        },
        "id": "0TCuJasxj415",
        "outputId": "0052a202-f4e4-4c1e-c400-55f5f3566fa1"
      },
      "outputs": [
        {
          "data": {
            "text/html": [
              "<div>\n",
              "<style scoped>\n",
              "    .dataframe tbody tr th:only-of-type {\n",
              "        vertical-align: middle;\n",
              "    }\n",
              "\n",
              "    .dataframe tbody tr th {\n",
              "        vertical-align: top;\n",
              "    }\n",
              "\n",
              "    .dataframe thead th {\n",
              "        text-align: right;\n",
              "    }\n",
              "</style>\n",
              "<table border=\"1\" class=\"dataframe\">\n",
              "  <thead>\n",
              "    <tr style=\"text-align: right;\">\n",
              "      <th></th>\n",
              "      <th>sapid</th>\n",
              "      <th>name</th>\n",
              "    </tr>\n",
              "  </thead>\n",
              "  <tbody>\n",
              "    <tr>\n",
              "      <th>0</th>\n",
              "      <td>157.0</td>\n",
              "      <td>abc</td>\n",
              "    </tr>\n",
              "    <tr>\n",
              "      <th>1</th>\n",
              "      <td>159.0</td>\n",
              "      <td>dfg</td>\n",
              "    </tr>\n",
              "    <tr>\n",
              "      <th>2</th>\n",
              "      <td>161.0</td>\n",
              "      <td>xyz</td>\n",
              "    </tr>\n",
              "  </tbody>\n",
              "</table>\n",
              "</div>"
            ],
            "text/plain": [
              "   sapid name\n",
              "0  157.0  abc\n",
              "1  159.0  dfg\n",
              "2  161.0  xyz"
            ]
          },
          "execution_count": 15,
          "metadata": {},
          "output_type": "execute_result"
        }
      ],
      "source": [
        "df.dropna()"
      ]
    },
    {
      "cell_type": "markdown",
      "metadata": {
        "id": "QgmaCXbhmla8"
      },
      "source": [
        "# filling Null Values with mean"
      ]
    },
    {
      "cell_type": "code",
      "execution_count": 16,
      "metadata": {
        "id": "koP2KYSwj6TY"
      },
      "outputs": [],
      "source": [
        "data={\n",
        "    'sapid':[156,159,160,None],\n",
        "    'name':['abcd','efgh','xyzq','erff']\n",
        "}\n",
        "df=pd.DataFrame(data)"
      ]
    },
    {
      "cell_type": "code",
      "execution_count": 18,
      "metadata": {
        "colab": {
          "base_uri": "https://localhost:8080/",
          "height": 232
        },
        "id": "CIvd_vBWj6-I",
        "outputId": "5e059abb-e4a7-4336-ecb1-708cab1bac07"
      },
      "outputs": [
        {
          "data": {
            "text/html": [
              "<div>\n",
              "<style scoped>\n",
              "    .dataframe tbody tr th:only-of-type {\n",
              "        vertical-align: middle;\n",
              "    }\n",
              "\n",
              "    .dataframe tbody tr th {\n",
              "        vertical-align: top;\n",
              "    }\n",
              "\n",
              "    .dataframe thead th {\n",
              "        text-align: right;\n",
              "    }\n",
              "</style>\n",
              "<table border=\"1\" class=\"dataframe\">\n",
              "  <thead>\n",
              "    <tr style=\"text-align: right;\">\n",
              "      <th></th>\n",
              "      <th>sapid</th>\n",
              "      <th>name</th>\n",
              "    </tr>\n",
              "  </thead>\n",
              "  <tbody>\n",
              "    <tr>\n",
              "      <th>0</th>\n",
              "      <td>156.000000</td>\n",
              "      <td>abcd</td>\n",
              "    </tr>\n",
              "    <tr>\n",
              "      <th>1</th>\n",
              "      <td>159.000000</td>\n",
              "      <td>efgh</td>\n",
              "    </tr>\n",
              "    <tr>\n",
              "      <th>2</th>\n",
              "      <td>160.000000</td>\n",
              "      <td>xyzq</td>\n",
              "    </tr>\n",
              "    <tr>\n",
              "      <th>3</th>\n",
              "      <td>158.333333</td>\n",
              "      <td>erff</td>\n",
              "    </tr>\n",
              "  </tbody>\n",
              "</table>\n",
              "</div>"
            ],
            "text/plain": [
              "        sapid  name\n",
              "0  156.000000  abcd\n",
              "1  159.000000  efgh\n",
              "2  160.000000  xyzq\n",
              "3  158.333333  erff"
            ]
          },
          "execution_count": 18,
          "metadata": {},
          "output_type": "execute_result"
        }
      ],
      "source": [
        "df.fillna(df['sapid'].mean())"
      ]
    },
    {
      "cell_type": "markdown",
      "metadata": {
        "id": "WNdzChXvnG21"
      },
      "source": [
        "# filling Null Values with median"
      ]
    },
    {
      "cell_type": "code",
      "execution_count": 20,
      "metadata": {
        "id": "vt6Re1BBj8Ox"
      },
      "outputs": [],
      "source": [
        "data={\n",
        "    'sapid':[156,159,160,None],\n",
        "    'name':['abcd','efgh','xyzq','erff'\n",
        "            ]\n",
        "}\n",
        "df=pd.DataFrame(data)"
      ]
    },
    {
      "cell_type": "code",
      "execution_count": null,
      "metadata": {},
      "outputs": [],
      "source": []
    },
    {
      "cell_type": "markdown",
      "metadata": {
        "id": "B0L3tJLSnMac"
      },
      "source": [
        "# Use of describe method"
      ]
    },
    {
      "cell_type": "code",
      "execution_count": 22,
      "metadata": {
        "colab": {
          "base_uri": "https://localhost:8080/",
          "height": 300
        },
        "id": "21jGx-Ugj_4S",
        "outputId": "7c8c1b04-97ac-4298-a4ce-5f73d1f458e9"
      },
      "outputs": [
        {
          "data": {
            "text/html": [
              "<div>\n",
              "<style scoped>\n",
              "    .dataframe tbody tr th:only-of-type {\n",
              "        vertical-align: middle;\n",
              "    }\n",
              "\n",
              "    .dataframe tbody tr th {\n",
              "        vertical-align: top;\n",
              "    }\n",
              "\n",
              "    .dataframe thead th {\n",
              "        text-align: right;\n",
              "    }\n",
              "</style>\n",
              "<table border=\"1\" class=\"dataframe\">\n",
              "  <thead>\n",
              "    <tr style=\"text-align: right;\">\n",
              "      <th></th>\n",
              "      <th>sapid</th>\n",
              "    </tr>\n",
              "  </thead>\n",
              "  <tbody>\n",
              "    <tr>\n",
              "      <th>count</th>\n",
              "      <td>3.000000</td>\n",
              "    </tr>\n",
              "    <tr>\n",
              "      <th>mean</th>\n",
              "      <td>158.333333</td>\n",
              "    </tr>\n",
              "    <tr>\n",
              "      <th>std</th>\n",
              "      <td>2.081666</td>\n",
              "    </tr>\n",
              "    <tr>\n",
              "      <th>min</th>\n",
              "      <td>156.000000</td>\n",
              "    </tr>\n",
              "    <tr>\n",
              "      <th>25%</th>\n",
              "      <td>157.500000</td>\n",
              "    </tr>\n",
              "    <tr>\n",
              "      <th>50%</th>\n",
              "      <td>159.000000</td>\n",
              "    </tr>\n",
              "    <tr>\n",
              "      <th>75%</th>\n",
              "      <td>159.500000</td>\n",
              "    </tr>\n",
              "    <tr>\n",
              "      <th>max</th>\n",
              "      <td>160.000000</td>\n",
              "    </tr>\n",
              "  </tbody>\n",
              "</table>\n",
              "</div>"
            ],
            "text/plain": [
              "            sapid\n",
              "count    3.000000\n",
              "mean   158.333333\n",
              "std      2.081666\n",
              "min    156.000000\n",
              "25%    157.500000\n",
              "50%    159.000000\n",
              "75%    159.500000\n",
              "max    160.000000"
            ]
          },
          "execution_count": 22,
          "metadata": {},
          "output_type": "execute_result"
        }
      ],
      "source": [
        "df.describe()"
      ]
    },
    {
      "cell_type": "markdown",
      "metadata": {
        "id": "QiewCLtUnalI"
      },
      "source": [
        "# Plotting a graph"
      ]
    },
    {
      "cell_type": "code",
      "execution_count": 23,
      "metadata": {
        "colab": {
          "base_uri": "https://localhost:8080/",
          "height": 430
        },
        "id": "p_3BN7BXkCm3",
        "outputId": "b4a03c5c-33b3-468b-8d8d-9baa1bc55f23"
      },
      "outputs": [
        {
          "data": {
            "image/png": "[encoded data removed]",
            "text/plain": [
              "<Figure size 640x480 with 1 Axes>"
            ]
          },
          "metadata": {},
          "output_type": "display_data"
        }
      ],
      "source": [
        "import matplotlib.pyplot as plt\n",
        "import numpy as np\n",
        "x=np.array(['P1','P2','P3','P4','P5'])\n",
        "y=np.array([19,14,12,18,17])\n",
        "plt.scatter(x,y)\n",
        "plt.show()"
      ]
    },
    {
      "cell_type": "markdown",
      "metadata": {
        "id": "5GL0MBOpndh0"
      },
      "source": [
        "plotting pie chart"
      ]
    },
    {
      "cell_type": "code",
      "execution_count": 26,
      "metadata": {
        "colab": {
          "base_uri": "https://localhost:8080/",
          "height": 428
        },
        "id": "Uj8GG9SikEPp",
        "outputId": "a0f3150b-6f9d-4532-a91c-0e9a4486afbb"
      },
      "outputs": [
        {
          "data": {
            "image/png": "[encoded data removed]",
            "text/plain": [
              "<Figure size 640x480 with 1 Axes>"
            ]
          },
          "metadata": {},
          "output_type": "display_data"
        }
      ],
      "source": [
        "x = np.array(['P1', 'P2', 'P3', 'P4', 'P5'])\n",
        "y = np.array([20, 15, 37, 18, 10])\n",
        "\n",
        "plt.pie(y, labels=x, autopct='%1.1f%%')\n",
        "plt.title('Distribution of Values')\n",
        "plt.show()\n"
      ]
    },
    {
      "cell_type": "markdown",
      "metadata": {
        "id": "hczUfUCbnhFu"
      },
      "source": [
        "plotting bar graph"
      ]
    },
    {
      "cell_type": "code",
      "execution_count": null,
      "metadata": {
        "colab": {
          "base_uri": "https://localhost:8080/",
          "height": 472
        },
        "id": "F04HerfjkFqy",
        "outputId": "8a3d1722-65da-4465-9b29-81c1967a7de7"
      },
      "outputs": [
        {
          "data": {
            "image/png": "[encoded data removed]",
            "text/plain": [
              "<Figure size 640x480 with 1 Axes>"
            ]
          },
          "metadata": {},
          "output_type": "display_data"
        }
      ],
      "source": [
        "x = np.array(['P1', 'P2', 'P3', 'P4', 'P5'])\n",
        "y = np.array([19, 14, 12, 18, 17])\n",
        "\n",
        "plt.bar(x, y)\n",
        "plt.xlabel('Products')\n",
        "plt.ylabel('Values')\n",
        "plt.title('Bar Graph of Values for Each Product')\n",
        "plt.show()"
      ]
    },
    {
      "cell_type": "markdown",
      "metadata": {
        "id": "yJ6yXLuQnjZv"
      },
      "source": [
        "Plotting a histogram"
      ]
    },
    {
      "cell_type": "code",
      "execution_count": 36,
      "metadata": {
        "colab": {
          "base_uri": "https://localhost:8080/",
          "height": 472
        },
        "id": "DF_ZE1HztPOR",
        "outputId": "e6613169-f107-418e-d6ab-5368503221ff"
      },
      "outputs": [
        {
          "data": {
            "image/png": "[encoded data removed]",
            "text/plain": [
              "<Figure size 640x480 with 1 Axes>"
            ]
          },
          "metadata": {},
          "output_type": "display_data"
        }
      ],
      "source": [
        "import matplotlib.pyplot as plt\n",
        "import numpy as np\n",
        "\n",
        "np.random.seed(42)\n",
        "data = np.random.randn(1000)\n",
        "\n",
        "plt.hist(data, bins=20, color='skyblue', edgecolor='black')\n",
        "\n",
        "plt.xlabel('Random Values')\n",
        "plt.ylabel('Frequency')\n",
        "plt.title('Histogram of Random Values')\n",
        "\n",
        "plt.show()\n"
      ]
    },
    {
      "cell_type": "code",
      "execution_count": null,
      "metadata": {
        "colab": {
          "base_uri": "https://localhost:8080/",
          "height": 430
        },
        "id": "stAHXwv7kII9",
        "outputId": "2a6794b9-6361-4e06-bb20-05b22984518d"
      },
      "outputs": [
        {
          "data": {
            "image/png": "[encoded data removed]",
            "text/plain": [
              "<Figure size 640x480 with 1 Axes>"
            ]
          },
          "metadata": {},
          "output_type": "display_data"
        }
      ],
      "source": [
        "x=np.random.normal(100,10,200)\n",
        "plt.hist(x)\n",
        "plt.show()"
      ]
    }
  ],
  "metadata": {
    "colab": {
      "provenance": []
    },
    "kernelspec": {
      "display_name": "Python 3",
      "name": "python3"
    },
    "language_info": {
      "codemirror_mode": {
        "name": "ipython",
        "version": 3
      },
      "file_extension": ".py",
      "mimetype": "text/x-python",
      "name": "python",
      "nbconvert_exporter": "python",
      "pygments_lexer": "ipython3",
      "version": "3.10.4"
    }
  },
  "nbformat": 4,
  "nbformat_minor": 0
}
